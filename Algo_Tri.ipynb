{
 "cells": [
  {
   "cell_type": "markdown",
   "metadata": {},
   "source": [
    "# Selection"
   ]
  },
  {
   "cell_type": "code",
   "execution_count": 17,
   "metadata": {},
   "outputs": [],
   "source": [
    "def triSelection(v):\n",
    "    for i in range(len(v)):\n",
    "        ind_min = i\n",
    "        for k in range(i+1,len(v)):\n",
    "            if (v[k] < v[ind_min]):\n",
    "                ind_min = k\n",
    "        aux = v[i]\n",
    "        v[i]= v[ind_min]\n",
    "        v[ind_min]=aux\n",
    "    print(\"with Selection\",v)\n"
   ]
  },
  {
   "cell_type": "markdown",
   "metadata": {},
   "source": [
    "# Bulle"
   ]
  },
  {
   "cell_type": "code",
   "execution_count": 18,
   "metadata": {},
   "outputs": [],
   "source": [
    "def triBulle (v):\n",
    "    permut = True\n",
    "    p=len(a)-1\n",
    "    while (permut):\n",
    "        permut=False\n",
    "        for i in range(0,p):\n",
    "            if (a[i] > a[i+1]):\n",
    "                aux=a[i]\n",
    "                a[i]=a[i+1]\n",
    "                a[i+1]=aux\n",
    "                permut=True\n",
    "        p-=1\n",
    "    print(\"with  Bulle\",a)"
   ]
  },
  {
   "cell_type": "markdown",
   "metadata": {},
   "source": [
    "# Insertion"
   ]
  },
  {
   "cell_type": "code",
   "execution_count": 19,
   "metadata": {},
   "outputs": [],
   "source": [
    "def triInsertion (v):\n",
    "    p=len(v)-1\n",
    "    for i in range(0,p) :\n",
    "        x = v[i+1]\n",
    "        j=i\n",
    "        while((v[j] > x ) and (j>=0) ) :\n",
    "            v[j+1] = v[j]\n",
    "            j-= 1\n",
    "        v[j+1] = x\n",
    "    print(\"with  Insertion\",v)\n",
    "\n"
   ]
  },
  {
   "cell_type": "markdown",
   "metadata": {},
   "source": [
    "# Fussion"
   ]
  },
  {
   "cell_type": "code",
   "execution_count": 20,
   "metadata": {},
   "outputs": [],
   "source": [
    "def triFussion(v):\n",
    "    \n",
    "    if len(v)>1:\n",
    "        mid = len(v)//2\n",
    "        left = v[:mid]\n",
    "        righ = v[mid:]\n",
    "\n",
    "        triFussion(left)\n",
    "        triFussion(righ)\n",
    "\n",
    "        i=0\n",
    "        j=0\n",
    "        k=0\n",
    "        while i < len(left) and j < len(righ):\n",
    "            if left[i] <= righ[j]:\n",
    "                v[k]=left[i]\n",
    "                i=i+1\n",
    "            else:\n",
    "                v[k]=righ[j]\n",
    "                j=j+1\n",
    "            k=k+1\n",
    "\n",
    "        while i < len(left):\n",
    "            v[k]=left[i]\n",
    "            i=i+1\n",
    "            k=k+1\n",
    "\n",
    "        while j < len(righ):\n",
    "            v[k]=righ[j]\n",
    "            j=j+1\n",
    "            k=k+1"
   ]
  },
  {
   "cell_type": "markdown",
   "metadata": {},
   "source": [
    "# Rapide"
   ]
  },
  {
   "cell_type": "code",
   "execution_count": 21,
   "metadata": {},
   "outputs": [],
   "source": [
    "def triRapide(v, debut, fin):\n",
    "\n",
    "\tdef division(v, debut, fin):\n",
    "\t\ti = (debut-1)\t\t \n",
    "\t\tpivot = v[fin]\t \n",
    "\n",
    "\t\tfor j in range(debut, fin):\n",
    "\n",
    "\t\t\tif v[j] <= pivot:\n",
    "\n",
    "\t\t\t\ti = i+1\n",
    "\t\t\t\tv[i], v[j] = v[j], v[i]\n",
    "\n",
    "\t\tv[i+1], v[fin] = v[fin], v[i+1]\n",
    "\t\treturn (i+1)\n",
    "\t\t\n",
    "\tif len(v) == 1:\n",
    "\t\treturn v\n",
    "\tif debut < fin:\n",
    "\n",
    "\t\tpivot = division(v, debut, fin)\n",
    "\t\ttriRapide(v, debut, pivot-1)\n",
    "\t\ttriRapide(v, pivot+1, fin)"
   ]
  },
  {
   "cell_type": "markdown",
   "metadata": {},
   "source": [
    "# TESTing "
   ]
  },
  {
   "cell_type": "code",
   "execution_count": 29,
   "metadata": {},
   "outputs": [],
   "source": [
    "l=[7,12,1,78,90,17,36,584,9,321]"
   ]
  },
  {
   "cell_type": "markdown",
   "metadata": {},
   "source": [
    "### Selection"
   ]
  },
  {
   "cell_type": "code",
   "execution_count": 23,
   "metadata": {},
   "outputs": [
    {
     "name": "stdout",
     "output_type": "stream",
     "text": [
      "normal [5, 2, 7, 10, 3, 1, 422, 12, 4, 11]\n",
      "with Selection [1, 2, 3, 4, 5, 7, 10, 11, 12, 422]\n"
     ]
    }
   ],
   "source": [
    "print(\"normal\",l)\n",
    "triSelection(a)"
   ]
  },
  {
   "cell_type": "markdown",
   "metadata": {},
   "source": [
    "### Bulle"
   ]
  },
  {
   "cell_type": "code",
   "execution_count": 24,
   "metadata": {},
   "outputs": [
    {
     "name": "stdout",
     "output_type": "stream",
     "text": [
      "Before [1, 2, 3, 4, 5, 7, 10, 11, 12, 422]\n",
      "with  Bulle [1, 2, 3, 4, 5, 7, 10, 11, 12, 422]\n"
     ]
    }
   ],
   "source": [
    "print(\"normal\",l)\n",
    "triBulle(l)"
   ]
  },
  {
   "cell_type": "markdown",
   "metadata": {},
   "source": [
    "### Insetion"
   ]
  },
  {
   "cell_type": "code",
   "execution_count": 25,
   "metadata": {},
   "outputs": [
    {
     "name": "stdout",
     "output_type": "stream",
     "text": [
      "Before [1, 2, 3, 4, 5, 7, 10, 11, 12, 422]\n",
      "with  Insertion [1, 2, 3, 4, 5, 7, 10, 11, 12, 422]\n"
     ]
    }
   ],
   "source": [
    "print(\"normal\",l)\n",
    "triInsertion(l)"
   ]
  },
  {
   "cell_type": "markdown",
   "metadata": {},
   "source": [
    "### Fusion"
   ]
  },
  {
   "cell_type": "code",
   "execution_count": 26,
   "metadata": {},
   "outputs": [
    {
     "name": "stdout",
     "output_type": "stream",
     "text": [
      "Before [1, 2, 3, 4, 5, 7, 10, 11, 12, 422]\n",
      "+After Fusion [1, 2, 3, 4, 5, 7, 10, 11, 12, 422]\n"
     ]
    }
   ],
   "source": [
    "print(\"normal\",l)\n",
    "triFussion(l)\n",
    "print(\"with Fusion\",l)"
   ]
  },
  {
   "cell_type": "markdown",
   "metadata": {},
   "source": [
    "### Rapide"
   ]
  },
  {
   "cell_type": "code",
   "execution_count": 27,
   "metadata": {},
   "outputs": [
    {
     "name": "stdout",
     "output_type": "stream",
     "text": [
      "Before [1, 2, 3, 4, 5, 7, 10, 11, 12, 422]\n",
      "+After Rapide [1, 2, 3, 4, 5, 7, 10, 11, 12, 422]\n"
     ]
    }
   ],
   "source": [
    "print(\"normal\",l)\n",
    "n=len(l)-1\n",
    "triRapide(l,0,n)\n",
    "print(\"with Rapide\",l)"
   ]
  },
  {
   "cell_type": "code",
   "execution_count": null,
   "metadata": {},
   "outputs": [],
   "source": []
  },
  {
   "cell_type": "code",
   "execution_count": null,
   "metadata": {},
   "outputs": [],
   "source": []
  }
 ],
 "metadata": {
  "kernelspec": {
   "display_name": "Python 3",
   "language": "python",
   "name": "python3"
  },
  "language_info": {
   "codemirror_mode": {
    "name": "ipython",
    "version": 3
   },
   "file_extension": ".py",
   "mimetype": "text/x-python",
   "name": "python",
   "nbconvert_exporter": "python",
   "pygments_lexer": "ipython3",
   "version": "3.8.3"
  }
 },
 "nbformat": 4,
 "nbformat_minor": 4
}
